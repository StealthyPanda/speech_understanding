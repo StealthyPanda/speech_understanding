{
 "cells": [
  {
   "cell_type": "code",
   "execution_count": 1,
   "metadata": {},
   "outputs": [],
   "source": [
    "import numpy as np\n",
    "import matplotlib.pyplot as plt\n",
    "import librosa\n",
    "import os\n",
    "\n",
    "from audiolib import analyse_audio\n",
    "\n",
    "from ipywidgets import interact"
   ]
  },
  {
   "cell_type": "markdown",
   "metadata": {},
   "source": [
    "# Analysing Audios"
   ]
  },
  {
   "cell_type": "markdown",
   "metadata": {},
   "source": [
    "__NOTE: This is assuming your audio dataset is placed at the `root` location...__"
   ]
  },
  {
   "cell_type": "code",
   "execution_count": 2,
   "metadata": {},
   "outputs": [],
   "source": [
    "root = './dataset'\n",
    "\n",
    "fold = 1\n",
    "\n",
    "files = [\n",
    "    '9031-3-2-0',\n",
    "    '9031-3-1-0',\n",
    "    '7061-6-0-0',\n",
    "    '192124-2-0-5',\n",
    "    '31323-3-0-2',\n",
    "]"
   ]
  },
  {
   "cell_type": "markdown",
   "metadata": {},
   "source": [
    "Audio waveforms, and spectrograms:"
   ]
  },
  {
   "cell_type": "code",
   "execution_count": 3,
   "metadata": {},
   "outputs": [
    {
     "data": {
      "application/vnd.jupyter.widget-view+json": {
       "model_id": "32946d19de69422292aab8f009b1de49",
       "version_major": 2,
       "version_minor": 0
      },
      "text/plain": [
       "interactive(children=(Dropdown(description='audiofile', options=('9031-3-2-0', '9031-3-1-0', '7061-6-0-0', '19…"
      ]
     },
     "metadata": {},
     "output_type": "display_data"
    }
   ],
   "source": [
    "@interact(audiofile = files)\n",
    "def analyser(audiofile):\n",
    "    analyse_audio(audiofile, fold=fold, root=root)"
   ]
  },
  {
   "cell_type": "code",
   "execution_count": 4,
   "metadata": {},
   "outputs": [
    {
     "data": {
      "text/plain": [
       "['mixkit-discover-587.mp3',\n",
       " 'mixkit-hazy-after-hours-132.mp3',\n",
       " 'mixkit-forest-treasure-138.mp3',\n",
       " 'mixkit-cant-get-you-off-my-mind-1210.mp3']"
      ]
     },
     "execution_count": 4,
     "metadata": {},
     "output_type": "execute_result"
    }
   ],
   "source": [
    "musicfiles = os.listdir('example_music')\n",
    "musicfiles"
   ]
  },
  {
   "cell_type": "code",
   "execution_count": 6,
   "metadata": {},
   "outputs": [
    {
     "data": {
      "application/vnd.jupyter.widget-view+json": {
       "model_id": "c19f607c71964894aaabcdab3f443b01",
       "version_major": 2,
       "version_minor": 0
      },
      "text/plain": [
       "interactive(children=(Dropdown(description='musicfile', index=3, options=('mixkit-discover-587.mp3', 'mixkit-h…"
      ]
     },
     "metadata": {},
     "output_type": "display_data"
    }
   ],
   "source": [
    "@interact(musicfile = musicfiles, start = (0, 100, 1), stop = (0, 100, 1))\n",
    "def music_analyser_spectrogram(musicfile : str = musicfiles[-1], start : float = 0, stop : float = 2):\n",
    "    music, sr = librosa.load(f'./example_music/{musicfile}', sr=16000)\n",
    "    start = int(sr * start)\n",
    "    stop = int(sr * stop)\n",
    "    music = music[start : stop]\n",
    "    analyse_audio(audio=music)"
   ]
  }
 ],
 "metadata": {
  "kernelspec": {
   "display_name": "torch",
   "language": "python",
   "name": "python3"
  },
  "language_info": {
   "codemirror_mode": {
    "name": "ipython",
    "version": 3
   },
   "file_extension": ".py",
   "mimetype": "text/x-python",
   "name": "python",
   "nbconvert_exporter": "python",
   "pygments_lexer": "ipython3",
   "version": "3.12.6"
  }
 },
 "nbformat": 4,
 "nbformat_minor": 2
}
